{
  "nbformat": 4,
  "nbformat_minor": 0,
  "metadata": {
    "colab": {
      "name": "PythonTraining.ipynb",
      "provenance": [],
      "authorship_tag": "ABX9TyP6llhXkrOhStRPW0AgWfjk",
      "include_colab_link": true
    },
    "kernelspec": {
      "name": "python3",
      "display_name": "Python 3"
    },
    "language_info": {
      "name": "python"
    }
  },
  "cells": [
    {
      "cell_type": "markdown",
      "metadata": {
        "id": "view-in-github",
        "colab_type": "text"
      },
      "source": [
        "<a href=\"https://colab.research.google.com/github/alirezashirmarz/PythonTraining/blob/main/PythonTraining.ipynb\" target=\"_parent\"><img src=\"https://colab.research.google.com/assets/colab-badge.svg\" alt=\"Open In Colab\"/></a>"
      ]
    },
    {
      "cell_type": "markdown",
      "source": [
        "# Mutable & Immutable Variables in Python"
      ],
      "metadata": {
        "id": "BwRDAVwcDZR0"
      }
    },
    {
      "cell_type": "code",
      "execution_count": null,
      "metadata": {
        "id": "s_TlXd-5BcEE"
      },
      "outputs": [],
      "source": [
        "# Immutable Variables & Refb by value\n",
        "x = 10\n",
        "def plus1(x):\n",
        "  x+=1\n",
        "  return x\n",
        "plus1(x)\n",
        "print(x)"
      ]
    },
    {
      "cell_type": "markdown",
      "source": [
        "When we are assigning a value to a variable, we are actually binding a name to an object. Instruction id(object) # Returns the actual location in RAM"
      ],
      "metadata": {
        "id": "hppXvHqpGDfN"
      }
    },
    {
      "cell_type": "code",
      "source": [
        "# Immutable Variables & Ref by value\n",
        "def plus1(x):\n",
        "  # id(x)\n",
        "  print(f'x is {type(x)} and the value of x is:',x)\n",
        "  print('id(input x) is:', id(x))\n",
        "  x+=1\n",
        "  print(x)\n",
        "  print('The x value is ',x)\n",
        "  print('id(manipulated x is:',id(x))\n",
        "  return x\n",
        "x = 10\n",
        "print('id(main x) is:', id(x))\n",
        "plus1(x)\n",
        "print(x)"
      ],
      "metadata": {
        "colab": {
          "base_uri": "https://localhost:8080/"
        },
        "id": "8JwK8gOPB1dB",
        "outputId": "f27c2cb1-f1b0-41a4-dcf3-0b911b2c5f03"
      },
      "execution_count": 9,
      "outputs": [
        {
          "output_type": "stream",
          "name": "stdout",
          "text": [
            "id(main x) is: 11256352\n",
            "x is <class 'int'> and the value of x is: 10\n",
            "id(input x) is: 11256352\n",
            "11\n",
            "The x value is  11\n",
            "id(manipulated x is: 11256384\n",
            "10\n"
          ]
        }
      ]
    },
    {
      "cell_type": "code",
      "source": [
        ""
      ],
      "metadata": {
        "id": "zGehi78lCf8l"
      },
      "execution_count": null,
      "outputs": []
    }
  ]
}