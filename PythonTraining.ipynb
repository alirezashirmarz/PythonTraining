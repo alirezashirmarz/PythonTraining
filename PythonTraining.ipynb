{
  "nbformat": 4,
  "nbformat_minor": 0,
  "metadata": {
    "colab": {
      "name": "PythonTraining.ipynb",
      "provenance": [],
      "authorship_tag": "ABX9TyMQtu48cPq5s0wq0iRo1CDp",
      "include_colab_link": true
    },
    "kernelspec": {
      "name": "python3",
      "display_name": "Python 3"
    },
    "language_info": {
      "name": "python"
    }
  },
  "cells": [
    {
      "cell_type": "markdown",
      "metadata": {
        "id": "view-in-github",
        "colab_type": "text"
      },
      "source": [
        "<a href=\"https://colab.research.google.com/github/alirezashirmarz/PythonTraining/blob/main/PythonTraining.ipynb\" target=\"_parent\"><img src=\"https://colab.research.google.com/assets/colab-badge.svg\" alt=\"Open In Colab\"/></a>"
      ]
    },
    {
      "cell_type": "markdown",
      "source": [
        "# Mutable & Immutable Variables in Python"
      ],
      "metadata": {
        "id": "BwRDAVwcDZR0"
      }
    },
    {
      "cell_type": "markdown",
      "source": [
        "[Immutable Variable 1](https://freecontent.manning.com/wp-content/uploads/Bell_MaIO_01.png)        [Immutable Variable 2](https://freecontent.manning.com/wp-content/uploads/Bell_MaIO_02.png)   [Mutable Variables3](https://freecontent.manning.com/wp-content/uploads/Bell_MaIO_03.png)"
      ],
      "metadata": {
        "id": "DfYJv2r8N5RB"
      }
    },
    {
      "cell_type": "code",
      "execution_count": null,
      "metadata": {
        "id": "s_TlXd-5BcEE"
      },
      "outputs": [],
      "source": [
        "# Immutable Variables & Call by value\n",
        "# Add 1 to variable x\n",
        "x = 10\n",
        "def plus1(x):\n",
        "  x+=1\n",
        "  return x\n",
        "plus1(x)\n",
        "print(x)"
      ]
    },
    {
      "cell_type": "markdown",
      "source": [
        "When we are assigning a value to a variable, we are actually binding a name to an object. Instruction id(object) # Returns the actual location in RAM"
      ],
      "metadata": {
        "id": "hppXvHqpGDfN"
      }
    },
    {
      "cell_type": "code",
      "source": [
        "# Immutable Variables & Call by value\n",
        "def plus1(x):\n",
        "  # id(x)\n",
        "  print(f'x is {type(x)} and the value of x is:',x)\n",
        "  print('id(input x) is:', id(x))\n",
        "  x+=1\n",
        "  print(x)\n",
        "  print('The x value is ',x)\n",
        "  print('id(manipulated x is:',id(x))\n",
        "  return x\n",
        "x = 10\n",
        "print('id(main x) is:', id(x))\n",
        "plus1(x)\n",
        "print(x)"
      ],
      "metadata": {
        "colab": {
          "base_uri": "https://localhost:8080/"
        },
        "id": "8JwK8gOPB1dB",
        "outputId": "758c10ab-0f9d-44c8-cd1b-22ca8cc1a5a6"
      },
      "execution_count": 15,
      "outputs": [
        {
          "output_type": "stream",
          "name": "stdout",
          "text": [
            "id(main x) is: 11256352\n",
            "x is <class 'int'> and the value of x is: 10\n",
            "id(input x) is: 11256352\n",
            "11\n",
            "The x value is  11\n",
            "id(manipulated x is: 11256384\n",
            "10\n"
          ]
        }
      ]
    },
    {
      "cell_type": "code",
      "source": [
        "# Mutable Variables & Call by Ref\n",
        "# Add 1 to each element value of list l\n",
        "def plus1(l):\n",
        "  print(f'id(l) {l} is:',id(l))\n",
        "  for i in range(len(l)):\n",
        "    l[i]=l[i]+1\n",
        "  print(f'id(l) {l} is:',id(l))\n",
        "  return l\n",
        "\n",
        "l=[1,2,3,4,5]\n",
        "plus1(l)\n",
        "print(f'id(l) {l} is:',id(l))\n",
        "print(l)\n",
        "print(f'Type of l is {type(l)}')"
      ],
      "metadata": {
        "colab": {
          "base_uri": "https://localhost:8080/"
        },
        "id": "zGehi78lCf8l",
        "outputId": "574d58e6-ac29-45d2-ef7b-90eaf1e72c8f"
      },
      "execution_count": 22,
      "outputs": [
        {
          "output_type": "stream",
          "name": "stdout",
          "text": [
            "id(l) [1, 2, 3, 4, 5] is: 140333697762640\n",
            "id(l) [2, 3, 4, 5, 6] is: 140333697762640\n",
            "id(l) [2, 3, 4, 5, 6] is: 140333697762640\n",
            "[2, 3, 4, 5, 6]\n",
            "Type of l is <class 'list'>\n"
          ]
        }
      ]
    },
    {
      "cell_type": "markdown",
      "source": [
        "# In Python Immutable Varibales are \"int, float, bool, string, unicode, tuple\", 😆\n",
        "# Mutable variables are \"list, dictionary, set\" 😃\n",
        "# it is important \"Custom classes are generally mutable\" 😀"
      ],
      "metadata": {
        "id": "g6V68-zMPSgb"
      }
    }
  ]
}