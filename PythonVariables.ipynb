{
  "nbformat": 4,
  "nbformat_minor": 0,
  "metadata": {
    "colab": {
      "name": "PythonVariables.ipynb",
      "provenance": [],
      "authorship_tag": "ABX9TyOpFKZG105OJzqL655okDLL",
      "include_colab_link": true
    },
    "kernelspec": {
      "name": "python3",
      "display_name": "Python 3"
    },
    "language_info": {
      "name": "python"
    }
  },
  "cells": [
    {
      "cell_type": "markdown",
      "metadata": {
        "id": "view-in-github",
        "colab_type": "text"
      },
      "source": [
        "<a href=\"https://colab.research.google.com/github/alirezashirmarz/PythonTraining/blob/main/PythonVariables.ipynb\" target=\"_parent\"><img src=\"https://colab.research.google.com/assets/colab-badge.svg\" alt=\"Open In Colab\"/></a>"
      ]
    },
    {
      "cell_type": "markdown",
      "source": [
        "# **Python History and Characteristics**\n",
        "# 1) Python is a simple, general purpose, dynamic, high level, interpreted, and object-oriented programming language. 😃\n",
        "\n",
        "# 2) It is \"scripting language\" 🤦\n",
        "\n",
        "# 3) Python supports multiple programming pattern, including object-oriented, imperative, and functional or procedural programming styles. 🤴\n",
        "\n",
        "# 4) Python was invented by Guido van Rossum in 1991 at CWI in Netherland. The idea of Python programming language has taken from the ABC programming language or we can say that ABC is a predecessor of Python language. 🌝\n",
        "\n",
        "# 5) There is also a fact behind the choosing name Python. Guido van Rossum was a fan of the popular BBC comedy show of that time, \"Monty Python's Flying Circus\". So he decided to pick the name Python for his newly created programming language. 😆\n",
        "\n",
        "# 6) Python is not intended to work in a particular area, such as web programming. That is why it is known as multipurpose programming language because it can be used with web, enterprise, 3D CAD, etc.\n"
      ],
      "metadata": {
        "id": "U1xLdR43Tln6"
      }
    },
    {
      "cell_type": "markdown",
      "source": [
        "# **Python Frameworks & Libraries**\n",
        "\n",
        "# * Web development (Server-side) - Django Flask, Pyramid, CherryPy\n",
        "# * GUIs based applications - Tk, PyGTK, PyQt, PyJs, etc.\n",
        "# * Machine Learning - TensorFlow, PyTorch, Scikit-learn, Matplotlib, Scipy, etc.\n",
        "# * Mathematics - Numpy, Pandas, etc."
      ],
      "metadata": {
        "id": "JkLNaxsjWRit"
      }
    },
    {
      "cell_type": "code",
      "source": [
        "# print Built-function \n",
        "a=10\n",
        "print('My','name','is','Alireza' ,sep=',',end='\\n')\n",
        "print(3)"
      ],
      "metadata": {
        "colab": {
          "base_uri": "https://localhost:8080/"
        },
        "id": "LPcaL3wgTiWv",
        "outputId": "38a98ebb-dd9a-48b9-df18-c99d6675573d"
      },
      "execution_count": 13,
      "outputs": [
        {
          "output_type": "stream",
          "name": "stdout",
          "text": [
            "My,name,is,Alireza\n",
            "3\n"
          ]
        }
      ]
    },
    {
      "cell_type": "code",
      "source": [
        "# take input from the user\n",
        "a=input('Please enter one number:')\n",
        "print('you enter number',a, 'input variable type is: ',type(a))\n",
        "\n",
        "# int number\n",
        "b=int(input('Please enter one number:'))\n",
        "print('you enter number',b, 'input variable type is: ',type(b))\n"
      ],
      "metadata": {
        "colab": {
          "base_uri": "https://localhost:8080/"
        },
        "id": "3LM-aNXLXeza",
        "outputId": "aee4fdd5-42c2-4bcf-bcc3-893f356edad6"
      },
      "execution_count": 18,
      "outputs": [
        {
          "output_type": "stream",
          "name": "stdout",
          "text": [
            "Please enter one number:1\n",
            "you enter number 1 input variable type is:  <class 'str'>\n",
            "Please enter one number:3\n",
            "you enter number 3 input variable type is:  <class 'int'>\n"
          ]
        }
      ]
    },
    {
      "cell_type": "code",
      "source": [
        "# enter 5 numbers and add them \n",
        "lst=[]\n",
        "n=0 ; sum=0\n",
        "while n<5:\n",
        "  lst.append(int(input(f'please enter number{n+1}:')))\n",
        "  sum=sum+lst[n]\n",
        "  n+=1\n",
        "  \n",
        "print(lst, n, sum)\n",
        "\n"
      ],
      "metadata": {
        "colab": {
          "base_uri": "https://localhost:8080/"
        },
        "id": "toY0xlDEYzj9",
        "outputId": "39ba43a7-e62f-41f2-ccd9-97b419b1b521"
      },
      "execution_count": 21,
      "outputs": [
        {
          "output_type": "stream",
          "name": "stdout",
          "text": [
            "please enter number1:1\n",
            "please enter number2:2\n",
            "please enter number3:3\n",
            "please enter number4:4\n",
            "please enter number5:5\n",
            "[1, 2, 3, 4, 5] 5 15\n"
          ]
        }
      ]
    },
    {
      "cell_type": "markdown",
      "source": [
        "# **Getsizof objects in python**\n",
        "#In python, the usage of sys.getsizeof() can be done to find the storage size of a particular object that occupies some space in the memory. This function returns the size of the object in <*bytes*>. It takes at most two arguments i.e Object itself.\n",
        "# Each integer 28 Byte\n",
        "# Each float 24 Byte\n",
        "# Each list 72 Byte --> add element with 8 Byte\n",
        "# Each tuple 56 Byte"
      ],
      "metadata": {
        "id": "vWWzS639cl8y"
      }
    },
    {
      "cell_type": "code",
      "source": [
        "import sys\n",
        "k=[1.2,0.2]\n",
        "m = (1,2)\n",
        "print(sys.getsizeof(k))\n",
        "print(sys.getsizeof(1.2))\n",
        "print(sys.getsizeof(m))\n",
        "#sys.getsizeof(lst)\n",
        "m"
      ],
      "metadata": {
        "colab": {
          "base_uri": "https://localhost:8080/"
        },
        "id": "sdfqplXqaXu3",
        "outputId": "18d5a9b2-a70e-481f-a58a-cfd331157733"
      },
      "execution_count": 53,
      "outputs": [
        {
          "output_type": "stream",
          "name": "stdout",
          "text": [
            "88\n",
            "24\n",
            "72\n"
          ]
        },
        {
          "output_type": "execute_result",
          "data": {
            "text/plain": [
              "(1, 2)"
            ]
          },
          "metadata": {},
          "execution_count": 53
        }
      ]
    },
    {
      "cell_type": "code",
      "source": [
        ""
      ],
      "metadata": {
        "id": "vtEW62XzbvZw"
      },
      "execution_count": null,
      "outputs": []
    }
  ]
}